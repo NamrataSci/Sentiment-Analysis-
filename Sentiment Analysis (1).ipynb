{
 "cells": [
  {
   "cell_type": "code",
   "execution_count": 1,
   "metadata": {},
   "outputs": [
    {
     "name": "stdout",
     "output_type": "stream",
     "text": [
      "Collecting textblob\n",
      "  Downloading textblob-0.15.3-py2.py3-none-any.whl (636 kB)\n",
      "Requirement already satisfied: nltk>=3.1 in c:\\users\\acer\\anaconda3\\lib\\site-packages (from textblob) (3.5)\n",
      "Requirement already satisfied: click in c:\\users\\acer\\anaconda3\\lib\\site-packages (from nltk>=3.1->textblob) (7.1.2)\n",
      "Requirement already satisfied: tqdm in c:\\users\\acer\\anaconda3\\lib\\site-packages (from nltk>=3.1->textblob) (4.50.2)\n",
      "Requirement already satisfied: joblib in c:\\users\\acer\\anaconda3\\lib\\site-packages (from nltk>=3.1->textblob) (0.17.0)\n",
      "Requirement already satisfied: regex in c:\\users\\acer\\anaconda3\\lib\\site-packages (from nltk>=3.1->textblob) (2020.10.15)\n",
      "Installing collected packages: textblob\n",
      "Successfully installed textblob-0.15.3\n"
     ]
    }
   ],
   "source": [
    "!pip install textblob"
   ]
  },
  {
   "cell_type": "markdown",
   "metadata": {},
   "source": [
    "Polarity: The emotion expressed in a sentence"
   ]
  },
  {
   "cell_type": "markdown",
   "metadata": {},
   "source": [
    "Subjectivity expresses some personal feelings, views or beliefs"
   ]
  },
  {
   "cell_type": "markdown",
   "metadata": {},
   "source": [
    "Here I have done sentiment analysis on the reviews of Naukri.com.\n",
    "According to consumer behavior research, evaluations can be broadly categorized into two types:\n",
    "1. Rational evaluations\n",
    "2. Emotional evaluations.\n",
    "\n",
    "To make use of these two types of evaluations in practice, we can design 5 sentiment ratings, emotional negative (-2), rational negative (-1), neutral (0), rational positive (+1), and emotional positive (+2). In practice, neutral often means no opinion or sentiment expressed."
   ]
  },
  {
   "cell_type": "code",
   "execution_count": 5,
   "metadata": {},
   "outputs": [],
   "source": [
    "from textblob import TextBlob"
   ]
  },
  {
   "cell_type": "code",
   "execution_count": 6,
   "metadata": {},
   "outputs": [
    {
     "name": "stdout",
     "output_type": "stream",
     "text": [
      "Sentiment(polarity=-0.09999999999999998, subjectivity=0.49444444444444446)\n"
     ]
    }
   ],
   "source": [
    "Feedback1 = \"I have received a call from representative to pay Rs 6200/- as registration fee to get jobs in Europe, India and across countries .and they assure placements .I said you have bad reviews in different website and cant pay the subjected amount. they said its reviewed by those who didn't submit proper documents .I ask them why you accept the payment from those candidates without any scrutinisation of your required documents to be submitted if you are a professional company having more than 15 years experience in market? Then he cut the phone and went away .ha ha ha fake .this company is just money making machine for them .\"\n",
    "blob1 = TextBlob(Feedback1)\n",
    "print(blob1.sentiment)\n"
   ]
  },
  {
   "cell_type": "code",
   "execution_count": 11,
   "metadata": {},
   "outputs": [
    {
     "name": "stdout",
     "output_type": "stream",
     "text": [
      "Sentiment(polarity=0.6158333333333333, subjectivity=0.55)\n"
     ]
    }
   ],
   "source": [
    "Feedback2 = \"Naukri.com is best job searching website. This website using more number of job are available. This website job searching process is very easy.\"\n",
    "blob2 = TextBlob(Feedback2)\n",
    "print(blob2.sentiment)"
   ]
  },
  {
   "cell_type": "code",
   "execution_count": 14,
   "metadata": {},
   "outputs": [
    {
     "name": "stdout",
     "output_type": "stream",
     "text": [
      "Sentiment(polarity=-0.125, subjectivity=0.6442307692307692)\n"
     ]
    }
   ],
   "source": [
    "Feedback3 = \"It gave notification after completion of interview process. It gave more fake news. It sent mail regularly but all of those are fake.\"\n",
    "blob3 = TextBlob(Feedback3)\n",
    "print(blob3.sentiment)"
   ]
  },
  {
   "cell_type": "code",
   "execution_count": 15,
   "metadata": {},
   "outputs": [
    {
     "name": "stdout",
     "output_type": "stream",
     "text": [
      "Sentiment(polarity=-0.5857142857142856, subjectivity=0.6238095238095239)\n"
     ]
    }
   ],
   "source": [
    "Feedback4 = \"The worst site ever asking for money they asked me 2999 charges for registration and I registered and paid also and when I ask for refund they said pay 4000 for refund form. This is illegal and this site should be banded and refund all the money of those people who trusted this site. I have added this site on cyber crime and soon action will be taken I have also recorded their calls and the way of talking as worst this site is not just bad it is worst. all will suffer.\"\n",
    "blob4 = TextBlob(Feedback4)\n",
    "print(blob4.sentiment)"
   ]
  },
  {
   "cell_type": "code",
   "execution_count": 16,
   "metadata": {},
   "outputs": [
    {
     "name": "stdout",
     "output_type": "stream",
     "text": [
      "Sentiment(polarity=-0.2, subjectivity=0.7625)\n"
     ]
    }
   ],
   "source": [
    "Feedback5 = \"Naukri Paid service(Info Edge(India) Ltd. is very very worst totally its a very fraud company. they take money only for cheating people.\"\n",
    "blob5 = TextBlob(Feedback5)\n",
    "print(blob5.sentiment)"
   ]
  },
  {
   "cell_type": "code",
   "execution_count": 17,
   "metadata": {},
   "outputs": [
    {
     "name": "stdout",
     "output_type": "stream",
     "text": [
      "Sentiment(polarity=-0.05793650793650795, subjectivity=0.596031746031746)\n"
     ]
    }
   ],
   "source": [
    "Feedback6 = \"I have registered with this site a while ago, This site is full of fake advertisements, I was unable to find single job from the organisation directly. Mostly fake HR posts on these sites. After the day I registered there was a flood of emails from site about various jobs though no one of them seems legit to me. Recieved numerous calls from agents who demanded money for registration. There are various good sites on playstore than this.\"\n",
    "blob6 = TextBlob(Feedback6)\n",
    "print(blob6.sentiment)"
   ]
  },
  {
   "cell_type": "code",
   "execution_count": 18,
   "metadata": {},
   "outputs": [
    {
     "name": "stdout",
     "output_type": "stream",
     "text": [
      "Sentiment(polarity=0.17619047619047618, subjectivity=0.5095238095238095)\n"
     ]
    }
   ],
   "source": [
    "Feedback7 = \"Naukri. Com Less very wasteful site. This job for which I have created an account. More than related to it, there are more unnecessary job notifications.Messaging spoils the mind. Which is not valuable at all. If you call for a job, it does not give any kind of response.\"\n",
    "blob7 = TextBlob(Feedback7)\n",
    "print(blob7.sentiment)"
   ]
  },
  {
   "cell_type": "code",
   "execution_count": null,
   "metadata": {},
   "outputs": [],
   "source": [
    "Feedback8 = \"\"\n",
    "blob8 = TextBlob(Feedback8)\n",
    "print(blob8.sentiment)"
   ]
  },
  {
   "cell_type": "code",
   "execution_count": 19,
   "metadata": {},
   "outputs": [
    {
     "name": "stdout",
     "output_type": "stream",
     "text": [
      "Sentiment(polarity=-0.09999999999999999, subjectivity=0.5333333333333333)\n"
     ]
    }
   ],
   "source": [
    "Feedback9 = \"Today I got call from naukri.com this number +91826025xxxx for job and said pay some amount. But I had said will paid after job confirm. After many call I had said i am not intresting for paid services to use wrong language with me. I have recording of this person and continuos calling for link click . Will complaint to police station with in 24 hours.\"\n",
    "blob9 = TextBlob(Feedback9)\n",
    "print(blob9.sentiment)"
   ]
  },
  {
   "cell_type": "code",
   "execution_count": 20,
   "metadata": {},
   "outputs": [
    {
     "name": "stdout",
     "output_type": "stream",
     "text": [
      "Sentiment(polarity=-0.3225, subjectivity=0.5775)\n"
     ]
    }
   ],
   "source": [
    "Feedback10 = \"Very very poor service, don't ever opt this .i have taken three months paid service but since two months I didnt get any calls from company. and now they say due to pandemic calls are not coming, so on this I said please give some relaxation extend this duration .But they didnt agree and said take 3 months package again.\"\n",
    "blob10 = TextBlob(Feedback10)\n",
    "print(blob10.sentiment)"
   ]
  },
  {
   "cell_type": "code",
   "execution_count": 21,
   "metadata": {},
   "outputs": [
    {
     "name": "stdout",
     "output_type": "stream",
     "text": [
      "Sentiment(polarity=0.3181818181818182, subjectivity=0.4772727272727273)\n"
     ]
    }
   ],
   "source": [
    "Feedback11 = \"When we apply to a job, we can't see the job anymore. The job vanishes. Always opens most of the links in new tab.\"\n",
    "blob11 = TextBlob(Feedback11)\n",
    "print(blob11.sentiment)"
   ]
  },
  {
   "cell_type": "code",
   "execution_count": 22,
   "metadata": {},
   "outputs": [
    {
     "name": "stdout",
     "output_type": "stream",
     "text": [
      "Sentiment(polarity=-0.38518518518518524, subjectivity=0.462962962962963)\n"
     ]
    }
   ],
   "source": [
    "Feedback12 = \"Never take any added services from naukri.com Resume writing is the worst. My actual score o resume was 45% which should have be enhanced after taking services. But it came down to 29% and there is no policy to support twice on resume writing services.\"\n",
    "blob12 = TextBlob(Feedback12)\n",
    "print(blob12.sentiment)"
   ]
  },
  {
   "cell_type": "code",
   "execution_count": 23,
   "metadata": {},
   "outputs": [
    {
     "name": "stdout",
     "output_type": "stream",
     "text": [
      "Sentiment(polarity=-0.06001683501683498, subjectivity=0.5867604617604617)\n"
     ]
    }
   ],
   "source": [
    "Feedback13 = \"First time I enter to noukari for requite some candidates to my company they took More money compared to others they are charging more and hopless servies they cheating clients “Mr Pavan Manger” he is use less fellow he never called after I rigisterd with noukari Mr Abhilash he is worst he don’t know how to handle the new clients totally noukari is worst, worst, worst Network simply they took Lot of money they pravide fake data of candidates I was rigisterd to with them for 6Months package and 4Months I never find one candidate for Interview not for work atleast that much they are froud they are wasting our precious and valuable time and our money I will proceeding legal action against them Gentle mans plz don’t go noukari compare them Quiker.com is best..\"\n",
    "blob13 = TextBlob(Feedback13)\n",
    "print(blob13.sentiment)"
   ]
  },
  {
   "cell_type": "code",
   "execution_count": 24,
   "metadata": {},
   "outputs": [
    {
     "name": "stdout",
     "output_type": "stream",
     "text": [
      "Sentiment(polarity=0.31666666666666665, subjectivity=0.6999999999999998)\n"
     ]
    }
   ],
   "source": [
    "Feedback14 = \"Naukri.com is a platform where we create account to find job that is suitable for us. But let me tell you this platform is full of fake recruiters those not gonna give you any kind of job. instead some of them are here to looting your money to the sake of job. Altough there are genuine recruiters too so its better to check the authenticity of the recruiter.\"\n",
    "blob14 = TextBlob(Feedback14)\n",
    "print(blob14.sentiment)"
   ]
  },
  {
   "cell_type": "code",
   "execution_count": 25,
   "metadata": {},
   "outputs": [
    {
     "name": "stdout",
     "output_type": "stream",
     "text": [
      "Sentiment(polarity=0.0, subjectivity=0.0)\n"
     ]
    }
   ],
   "source": [
    "Feedback15 = \"Naukri.com customer support 09749624318 I got a call from naukri saying there is openings in Samsung and you have to pay 1900 and some ref ID will be generated and u will be primium member and I agreed to pay as they said in case if u didn’t get interview the amount will be refunded but some 1 conducted interview and said I cleared and again they are asking for 10500 .I didn’t pay that amount and asked for refund. Now they not responding .\"\n",
    "blob15 = TextBlob(Feedback15)\n",
    "print(blob15.sentiment)"
   ]
  },
  {
   "cell_type": "code",
   "execution_count": 26,
   "metadata": {},
   "outputs": [
    {
     "name": "stdout",
     "output_type": "stream",
     "text": [
      "Sentiment(polarity=-0.03333333333333333, subjectivity=0.6666666666666666)\n"
     ]
    }
   ],
   "source": [
    "Feedback16 = \"Today I got a call from recruiter. They asked me to pay 100 for attending an interview. But they debited an amount of 13000 from my account and switched off their mobile. Friends be careful with such websites. Don't pay any amount for such things they will automatically cut amount\"\n",
    "blob16 = TextBlob(Feedback16)\n",
    "print(blob16.sentiment)"
   ]
  },
  {
   "cell_type": "code",
   "execution_count": 27,
   "metadata": {},
   "outputs": [
    {
     "name": "stdout",
     "output_type": "stream",
     "text": [
      "Sentiment(polarity=0.04393162393162393, subjectivity=0.4150427350427349)\n"
     ]
    }
   ],
   "source": [
    "Feedback17 = \"In my opinion this is one of the most worthless Job portal.it's better you directly Google job consultants and contact them directly the chances of getting Job will be high. But if you relay on Naukari.com seriously you are wasting your time. Even the paid services of this portal don't gaurante you interview and above this they have such monthly packages to trap you after purchasing one service they'll call you to upsell their product and will ask for more money. In a way they are cheating in the name of helping. BEWARE of relying on their services.better contact local consultants.???????????? A big thumb down\"\n",
    "blob17 = TextBlob(Feedback17)\n",
    "print(blob17.sentiment)"
   ]
  },
  {
   "cell_type": "code",
   "execution_count": 28,
   "metadata": {},
   "outputs": [
    {
     "name": "stdout",
     "output_type": "stream",
     "text": [
      "Sentiment(polarity=0.11428571428571428, subjectivity=0.47247023809523814)\n"
     ]
    }
   ],
   "source": [
    "Feedback18 = \"Well first of all naukri.com didn't come up to the expectation. As I expected after making a profile and applying for the jobs , I would be able to give interviews but I didn't get the opportunity. They will tell you that you are shortlisted and will get a call in few days but they don't respond. Many fake companies are also there and they will ask you a certain amount and you will get the refund after one month. So please be aware from them\"\n",
    "blob18 = TextBlob(Feedback18)\n",
    "print(blob18.sentiment)"
   ]
  },
  {
   "cell_type": "code",
   "execution_count": 29,
   "metadata": {},
   "outputs": [
    {
     "name": "stdout",
     "output_type": "stream",
     "text": [
      "Sentiment(polarity=0.225, subjectivity=0.25)\n"
     ]
    }
   ],
   "source": [
    "Feedback19 = \"I registered with naukri.com and I am having some experience with this app after the registration they are providing too many jobs with ability and skills but the registers company are taking money to providing interviews if I search genuine company with phone number I cannot find on this app and suppose my skills in back office they cannot provide any back office job they will offered telemarketing job and Field job and for that arranging interviews I have to pay some money I will not suggest to go through with this app\"\n",
    "blob19 = TextBlob(Feedback19)\n",
    "print(blob19.sentiment)"
   ]
  },
  {
   "cell_type": "code",
   "execution_count": 30,
   "metadata": {},
   "outputs": [
    {
     "name": "stdout",
     "output_type": "stream",
     "text": [
      "Sentiment(polarity=0.3333333333333333, subjectivity=0.5083333333333334)\n"
     ]
    }
   ],
   "source": [
    "Feedback20 = \"I took the services and I stopped receiving calls from recruiter. They will ony share 3 jobs a day. Before taking the services I was searching by myself and applying, then was getting the calls. They will soft words before giving services and aftertaking money will only say that..we are trying our best. But in real they will do nothing.er sites are way better than this. Atleast you will receive call from recruiters and won't charge you anything by saying fast forward or resume display.\"\n",
    "blob20 = TextBlob(Feedback20)\n",
    "print(blob20.sentiment)"
   ]
  }
 ],
 "metadata": {
  "kernelspec": {
   "display_name": "Python 3",
   "language": "python",
   "name": "python3"
  },
  "language_info": {
   "codemirror_mode": {
    "name": "ipython",
    "version": 3
   },
   "file_extension": ".py",
   "mimetype": "text/x-python",
   "name": "python",
   "nbconvert_exporter": "python",
   "pygments_lexer": "ipython3",
   "version": "3.8.5"
  }
 },
 "nbformat": 4,
 "nbformat_minor": 5
}
